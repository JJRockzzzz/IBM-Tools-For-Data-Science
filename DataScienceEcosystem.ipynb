{
 "cells": [
  {
   "attachments": {},
   "cell_type": "markdown",
   "metadata": {},
   "source": [
    "<H1>Data Science Tools and Ecosystem</H1>\n",
    "\n"
   ]
  },
  {
   "attachments": {},
   "cell_type": "markdown",
   "metadata": {},
   "source": [
    "In this notebook, Data Science Tools and Ecosystem are summarized.\n"
   ]
  },
  {
   "attachments": {},
   "cell_type": "markdown",
   "metadata": {},
   "source": [
    "<B>Objectives:</B>\n",
    "<UL>\n",
    "<LI>List popular languages for Data Science</LI>\n",
    "<LI>List commonly used libraries in Data Science</LI>\n",
    "<LI>List common Data Science development environments</LI>\n",
    "<LI>Show basic Python codes</LI>\n",
    "</UL>"
   ]
  },
  {
   "attachments": {},
   "cell_type": "markdown",
   "metadata": {},
   "source": [
    "Some of the popular languages that Data Scientists use are:\n",
    "<OL>\n",
    "<LI>Python</LI>\n",
    "<LI>R</LI>\n",
    "<LI>SQL</LI>\n",
    "</OL>\n",
    "\n",
    "Some of the commonly used libraries used by Data Scientists include:\n",
    "<OL>\n",
    "<LI>Pandas</LI>\n",
    "<LI>NumPy</LI>\n",
    "<LI>PyTorch</LI>\n",
    "</OL>\n",
    "\n"
   ]
  },
  {
   "attachments": {},
   "cell_type": "markdown",
   "metadata": {},
   "source": [
    "<TABLE>\n",
    "<TR>\n",
    "<TH>Data Science Tools</TH>\n",
    "</TR>\n",
    "<TR>\n",
    "<TD>Visual Studio Code</TD>\n",
    "</TR>\n",
    "<TR>\n",
    "<TD>RStudio</TD>\n",
    "</TR>\n",
    "<TR>\n",
    "<TD>Spyder</TD>\n",
    "</TR>\n",
    "</TABLE>\n"
   ]
  },
  {
   "attachments": {},
   "cell_type": "markdown",
   "metadata": {},
   "source": [
    "<H3>Below are a few examples of evaluating arithmetic expressions in Python</H3>"
   ]
  },
  {
   "cell_type": "code",
   "execution_count": 2,
   "metadata": {},
   "outputs": [
    {
     "name": "stdout",
     "output_type": "stream",
     "text": [
      "17\n"
     ]
    }
   ],
   "source": [
    "#This a simple arithmetic expression to mutiply then add integer\n",
    "i=(3*4)+5\n",
    "print(i)\n"
   ]
  },
  {
   "cell_type": "code",
   "execution_count": 5,
   "metadata": {},
   "outputs": [
    {
     "name": "stdout",
     "output_type": "stream",
     "text": [
      "3.3333333333333335\n"
     ]
    }
   ],
   "source": [
    "#This will convert 200 minutes to hours by diving by 60\n",
    "mins=200\n",
    "hours=mins/60\n",
    "print(hours)"
   ]
  },
  {
   "attachments": {},
   "cell_type": "markdown",
   "metadata": {},
   "source": [
    "<H2>Author</H2>\n",
    "Jeevan Joyce"
   ]
  }
 ],
 "metadata": {
  "kernelspec": {
   "display_name": "Python 3",
   "language": "python",
   "name": "python3"
  },
  "language_info": {
   "codemirror_mode": {
    "name": "ipython",
    "version": 3
   },
   "file_extension": ".py",
   "mimetype": "text/x-python",
   "name": "python",
   "nbconvert_exporter": "python",
   "pygments_lexer": "ipython3",
   "version": "3.11.4"
  },
  "orig_nbformat": 4
 },
 "nbformat": 4,
 "nbformat_minor": 2
}
